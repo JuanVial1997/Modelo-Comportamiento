{
 "cells": [
  {
   "cell_type": "code",
   "execution_count": null,
   "id": "293ee66c-3566-4ae9-83f2-987ebc00c6a3",
   "metadata": {},
   "outputs": [],
   "source": [
    "import pandas as pd \n",
    "import numpy as pd\n",
    "import scipy.stats as st\n",
    "\n",
    "\n",
    "def test_LR(log_no_restringido, log_restringido, numero_restricciones, significancia):\n",
    "    lr = -2*( log_restringido - log_no_restringido)\n",
    "    valor_chi = st.chi2.ppf(1-significancia/2, df=numero_restricciones)\n",
    "    print(valor_chi)\n",
    "    if abs(lr) <= valor_chi:\n",
    "        print(f'Modelos son estadisticamente iguales por parsinomia, y se prefiere el restringido --- Test LR: {round(lr,3)}')\n",
    "    else:\n",
    "        print(f'Modelos no son estadisticamente iguales, por lo que se puede preferir el no restringido --- Test LR: {round(lr,3)}')"
   ]
  }
 ],
 "metadata": {
  "kernelspec": {
   "display_name": "Python 3 (ipykernel)",
   "language": "python",
   "name": "python3"
  },
  "language_info": {
   "codemirror_mode": {
    "name": "ipython",
    "version": 3
   },
   "file_extension": ".py",
   "mimetype": "text/x-python",
   "name": "python",
   "nbconvert_exporter": "python",
   "pygments_lexer": "ipython3",
   "version": "3.9.7"
  }
 },
 "nbformat": 4,
 "nbformat_minor": 5
}
